{
 "cells": [
  {
   "cell_type": "code",
   "execution_count": 3,
   "id": "a15ce639",
   "metadata": {},
   "outputs": [],
   "source": [
    "import numpy as np\n",
    "import pandas as pd\n",
    "import matplotlib.pyplot as plt\n",
    "import seaborn as sns\n",
    "\n",
    "from scipy.cluster.hierarchy import dendrogram, linkage, fcluster\n",
    "from sklearn.cluster import KMeans\n",
    "# from sklearn.cluster import clusterplot"
   ]
  },
  {
   "cell_type": "markdown",
   "id": "e1818853",
   "metadata": {},
   "source": [
    "# Load the Data"
   ]
  },
  {
   "cell_type": "code",
   "execution_count": 5,
   "id": "f7dce25f",
   "metadata": {},
   "outputs": [],
   "source": [
    "# Load data\n",
    "df = pd.read_csv('../data/HR_data.csv')"
   ]
  },
  {
   "cell_type": "markdown",
   "id": "b992d4ba",
   "metadata": {},
   "source": [
    "## Define the subsets of the data"
   ]
  },
  {
   "cell_type": "code",
   "execution_count": 8,
   "id": "e8808170",
   "metadata": {},
   "outputs": [],
   "source": [
    "HR_columns = ['HR_TD_Mean', 'HR_TD_Median', 'HR_TD_std',\n",
    "       'HR_TD_Min', 'HR_TD_Max', 'HR_TD_AUC', 'HR_TD_Kurtosis', 'HR_TD_Skew',\n",
    "       'HR_TD_Slope_min', 'HR_TD_Slope_max', 'HR_TD_Slope_mean', 'HR_TD_Slope']\n",
    "df_HR = df[HR_columns]\n",
    "\n",
    "Temp_columns = ['TEMP_TD_Mean', 'TEMP_TD_Median', 'TEMP_TD_std', 'TEMP_TD_Min',\n",
    "       'TEMP_TD_Max', 'TEMP_TD_AUC', 'TEMP_TD_Kurtosis', 'TEMP_TD_Skew',\n",
    "       'TEMP_TD_Slope_min', 'TEMP_TD_Slope_max', 'TEMP_TD_Slope_mean',\n",
    "       'TEMP_TD_Slope']\n",
    "df_Temp = df[Temp_columns]\n",
    "\n",
    "EDA_columns = ['EDA_TD_P_Mean', 'EDA_TD_P_Median', 'EDA_TD_P_std',\n",
    "       'EDA_TD_P_Min', 'EDA_TD_P_Max', 'EDA_TD_P_AUC', 'EDA_TD_P_Kurtosis',\n",
    "       'EDA_TD_P_Skew', 'EDA_TD_P_Slope_min', 'EDA_TD_P_Slope_max',\n",
    "       'EDA_TD_P_Slope_mean', 'EDA_TD_P_Slope', 'EDA_TD_T_Mean',\n",
    "       'EDA_TD_T_Median', 'EDA_TD_T_std', 'EDA_TD_T_Min', 'EDA_TD_T_Max',\n",
    "       'EDA_TD_T_AUC', 'EDA_TD_T_Kurtosis', 'EDA_TD_T_Skew',\n",
    "       'EDA_TD_T_Slope_min', 'EDA_TD_T_Slope_max', 'EDA_TD_T_Slope_mean',\n",
    "       'EDA_TD_T_Slope', 'EDA_TD_P_Peaks', 'EDA_TD_P_RT', 'EDA_TD_P_ReT']\n",
    "df_EDA = df[EDA_columns]\n",
    "\n",
    "PhaseLabels = df[\"Phase\"]"
   ]
  },
  {
   "cell_type": "markdown",
   "id": "df262358",
   "metadata": {},
   "source": [
    "# Hierarchical Clustering"
   ]
  },
  {
   "cell_type": "markdown",
   "id": "c6ec13ac",
   "metadata": {},
   "source": [
    "### Heart rate variables"
   ]
  },
  {
   "cell_type": "code",
   "execution_count": null,
   "id": "09752ecb",
   "metadata": {},
   "outputs": [
    {
     "data": {
      "image/png": "[encoded data removed]",
      "text/plain": [
       "<Figure size 640x480 with 1 Axes>"
      ]
     },
     "metadata": {},
     "output_type": "display_data"
    },
    {
     "name": "stdout",
     "output_type": "stream",
     "text": [
      "The labels associated with cluster 1 is:\n",
      "Phase\n",
      "phase2    39\n",
      "phase3    28\n",
      "phase1    25\n",
      "Name: count, dtype: int64\n",
      "\n",
      "\n",
      "The labels associated with cluster 2 is:\n",
      "Phase\n",
      "phase1    37\n",
      "phase3    35\n",
      "phase2     7\n",
      "Name: count, dtype: int64\n",
      "\n",
      "\n",
      "The labels associated with cluster 3 is:\n",
      "Phase\n",
      "phase2    58\n",
      "phase1    42\n",
      "phase3    41\n",
      "Name: count, dtype: int64\n",
      "\n",
      "\n"
     ]
    }
   ],
   "source": [
    "d_sample = 'euclidean' \n",
    "d_group = 'ward' \n",
    "N_leafs = 3 \n",
    "\n",
    "Z = linkage(df_HR, method=d_group, metric=d_sample) #method denotes cluster distance, metric denotes sample distance\n",
    "# plt.figure()\n",
    "# plt.title('Hierarchical Clustering Dendrogram - Heart rate feautures only')\n",
    "# plt.xlabel('sample index')\n",
    "# plt.ylabel('distance')\n",
    "\n",
    "# den = dendrogram(\n",
    "#     Z,\n",
    "#     leaf_rotation=90.,\n",
    "#     leaf_font_size=8.,\n",
    "#     truncate_mode='lastp',\n",
    "#     p = N_leafs,\n",
    "# )\n",
    "# plt.show()\n",
    "\n",
    "k=3\n",
    "\n",
    "cluster_designation = fcluster(Z, k, criterion='maxclust') #Get cluster designation of data points\n",
    "\n",
    "for i in range(1,k+1):\n",
    "    datapoints = np.where(cluster_designation==i,)[0]\n",
    "    print('The labels associated with cluster {} is:'.format(i))\n",
    "    list = PhaseLabels[datapoints]\n",
    "    counts = pd.Series(list).value_counts()\n",
    "    print(counts)\n",
    "    print('\\n')"
   ]
  },
  {
   "cell_type": "markdown",
   "id": "b736638f",
   "metadata": {},
   "source": [
    "### Temp variables"
   ]
  },
  {
   "cell_type": "code",
   "execution_count": 27,
   "id": "02e6b41f",
   "metadata": {},
   "outputs": [
    {
     "name": "stdout",
     "output_type": "stream",
     "text": [
      "The labels associated with cluster 1 is:\n",
      "Phase\n",
      "phase1    6\n",
      "phase2    6\n",
      "Name: count, dtype: int64\n",
      "\n",
      "\n",
      "The labels associated with cluster 2 is:\n",
      "Phase\n",
      "phase2    43\n",
      "phase3    34\n",
      "phase1    28\n",
      "Name: count, dtype: int64\n",
      "\n",
      "\n",
      "The labels associated with cluster 3 is:\n",
      "Phase\n",
      "phase3    70\n",
      "phase1    70\n",
      "phase2    55\n",
      "Name: count, dtype: int64\n",
      "\n",
      "\n"
     ]
    }
   ],
   "source": [
    "d_sample = 'euclidean' \n",
    "d_group = 'ward' \n",
    "N_leafs = 3 \n",
    "\n",
    "Z = linkage(df_Temp, method=d_group, metric=d_sample) #method denotes cluster distance, metric denotes sample distance\n",
    "# plt.figure()\n",
    "# plt.title('Hierarchical Clustering Dendrogram - Temp feautures only')\n",
    "# plt.xlabel('sample index')\n",
    "# plt.ylabel('distance')\n",
    "\n",
    "# den = dendrogram(\n",
    "#     Z,\n",
    "#     leaf_rotation=90.,\n",
    "#     leaf_font_size=8.,\n",
    "#     truncate_mode='lastp',\n",
    "#     p = N_leafs,\n",
    "# )\n",
    "# plt.show()\n",
    "\n",
    "k=3\n",
    "\n",
    "cluster_designation = fcluster(Z, k, criterion='maxclust') #Get cluster designation of data points\n",
    "\n",
    "for i in range(1,k+1):\n",
    "    datapoints = np.where(cluster_designation==i,)[0]\n",
    "    print('The labels associated with cluster {} is:'.format(i))\n",
    "    list = PhaseLabels[datapoints]\n",
    "    counts = pd.Series(list).value_counts()\n",
    "    print(counts)\n",
    "    print('\\n')"
   ]
  },
  {
   "cell_type": "markdown",
   "id": "4fe3feaa",
   "metadata": {},
   "source": [
    "### EDA variables"
   ]
  },
  {
   "cell_type": "code",
   "execution_count": 31,
   "id": "abb287d4",
   "metadata": {},
   "outputs": [
    {
     "name": "stdout",
     "output_type": "stream",
     "text": [
      "True\n",
      "False\n",
      "The labels associated with cluster 1 is:\n",
      "Phase\n",
      "phase3    7\n",
      "phase2    5\n",
      "phase1    5\n",
      "Name: count, dtype: int64\n",
      "\n",
      "\n",
      "The labels associated with cluster 2 is:\n",
      "Phase\n",
      "phase3    22\n",
      "phase1    21\n",
      "phase2    19\n",
      "Name: count, dtype: int64\n",
      "\n",
      "\n",
      "The labels associated with cluster 3 is:\n",
      "Phase\n",
      "phase2    80\n",
      "phase1    77\n",
      "phase3    75\n",
      "Name: count, dtype: int64\n",
      "\n",
      "\n"
     ]
    }
   ],
   "source": [
    "d_sample = 'euclidean' \n",
    "d_group = 'ward' \n",
    "N_leafs = 3 \n",
    "\n",
    "print(np.any(np.isnan(df_EDA)))\n",
    "print(np.any(np.isinf(df_EDA)))\n",
    "\n",
    "df_EDA_clean = df_EDA.replace([np.inf, -np.inf], np.nan).dropna()\n",
    "\n",
    "Z = linkage(df_EDA_clean, method=d_group, metric=d_sample) #method denotes cluster distance, metric denotes sample distance\n",
    "# plt.figure()\n",
    "# plt.title('Hierarchical Clustering Dendrogram - Temp feautures only')\n",
    "# plt.xlabel('sample index')\n",
    "# plt.ylabel('distance')\n",
    "\n",
    "# den = dendrogram(\n",
    "#     Z,\n",
    "#     leaf_rotation=90.,\n",
    "#     leaf_font_size=8.,\n",
    "#     truncate_mode='lastp',\n",
    "#     p = N_leafs,\n",
    "# )\n",
    "# plt.show()\n",
    "\n",
    "k=3\n",
    "\n",
    "cluster_designation = fcluster(Z, k, criterion='maxclust') #Get cluster designation of data points\n",
    "\n",
    "for i in range(1,k+1):\n",
    "    datapoints = np.where(cluster_designation==i,)[0]\n",
    "    print('The labels associated with cluster {} is:'.format(i))\n",
    "    list = PhaseLabels[datapoints]\n",
    "    counts = pd.Series(list).value_counts()\n",
    "    print(counts)\n",
    "    print('\\n')"
   ]
  }
 ],
 "metadata": {
  "kernelspec": {
   "display_name": "myenv",
   "language": "python",
   "name": "python3"
  },
  "language_info": {
   "codemirror_mode": {
    "name": "ipython",
    "version": 3
   },
   "file_extension": ".py",
   "mimetype": "text/x-python",
   "name": "python",
   "nbconvert_exporter": "python",
   "pygments_lexer": "ipython3",
   "version": "3.12.10"
  }
 },
 "nbformat": 4,
 "nbformat_minor": 5
}
