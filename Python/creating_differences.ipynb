{
 "cells": [
  {
   "cell_type": "code",
   "execution_count": 2,
   "id": "84cb3623",
   "metadata": {},
   "outputs": [],
   "source": [
    "import numpy as np\n",
    "import pandas as pd"
   ]
  },
  {
   "cell_type": "markdown",
   "id": "b3401db8",
   "metadata": {},
   "source": [
    "# Load data"
   ]
  },
  {
   "cell_type": "code",
   "execution_count": 3,
   "id": "3a4e34bf",
   "metadata": {},
   "outputs": [],
   "source": [
    "# Load data\n",
    "df = pd.read_csv('../data/HR_data.csv')\n",
    "\n",
    "df_phase1 = df[df['Phase'] == 'phase1']\n",
    "\n",
    "df_phase2 = df[df['Phase'] == 'phase2']\n",
    "\n",
    "df_phase3 = df[df['Phase'] == 'phase3']"
   ]
  },
  {
   "cell_type": "code",
   "execution_count": 4,
   "id": "c27bcbee",
   "metadata": {},
   "outputs": [
    {
     "name": "stdout",
     "output_type": "stream",
     "text": [
      "['Unnamed: 0_phase1', 'HR_TD_Mean_phase1', 'HR_TD_Median_phase1', 'HR_TD_std_phase1', 'HR_TD_Min_phase1', 'HR_TD_Max_phase1', 'HR_TD_AUC_phase1', 'HR_TD_Kurtosis_phase1', 'HR_TD_Skew_phase1', 'HR_TD_Slope_min_phase1', 'HR_TD_Slope_max_phase1', 'HR_TD_Slope_mean_phase1', 'HR_TD_Slope_phase1', 'TEMP_TD_Mean_phase1', 'TEMP_TD_Median_phase1', 'TEMP_TD_std_phase1', 'TEMP_TD_Min_phase1', 'TEMP_TD_Max_phase1', 'TEMP_TD_AUC_phase1', 'TEMP_TD_Kurtosis_phase1', 'TEMP_TD_Skew_phase1', 'TEMP_TD_Slope_min_phase1', 'TEMP_TD_Slope_max_phase1', 'TEMP_TD_Slope_mean_phase1', 'TEMP_TD_Slope_phase1', 'EDA_TD_P_Mean_phase1', 'EDA_TD_P_Median_phase1', 'EDA_TD_P_std_phase1', 'EDA_TD_P_Min_phase1', 'EDA_TD_P_Max_phase1', 'EDA_TD_P_AUC_phase1', 'EDA_TD_P_Kurtosis_phase1', 'EDA_TD_P_Skew_phase1', 'EDA_TD_P_Slope_min_phase1', 'EDA_TD_P_Slope_max_phase1', 'EDA_TD_P_Slope_mean_phase1', 'EDA_TD_P_Slope_phase1', 'EDA_TD_T_Mean_phase1', 'EDA_TD_T_Median_phase1', 'EDA_TD_T_std_phase1', 'EDA_TD_T_Min_phase1', 'EDA_TD_T_Max_phase1', 'EDA_TD_T_AUC_phase1', 'EDA_TD_T_Kurtosis_phase1', 'EDA_TD_T_Skew_phase1', 'EDA_TD_T_Slope_min_phase1', 'EDA_TD_T_Slope_max_phase1', 'EDA_TD_T_Slope_mean_phase1', 'EDA_TD_T_Slope_phase1', 'EDA_TD_P_Peaks_phase1', 'EDA_TD_P_RT_phase1', 'EDA_TD_P_ReT_phase1', 'Round', 'Phase_phase1', 'Individual', 'Puzzler_phase1', 'Frustrated_phase1', 'Cohort_phase1', 'upset_phase1', 'hostile_phase1', 'alert_phase1', 'ashamed_phase1', 'inspired_phase1', 'nervous_phase1', 'attentive_phase1', 'afraid_phase1', 'active_phase1', 'determined_phase1', 'Unnamed: 0_phase2', 'HR_TD_Mean_phase2', 'HR_TD_Median_phase2', 'HR_TD_std_phase2', 'HR_TD_Min_phase2', 'HR_TD_Max_phase2', 'HR_TD_AUC_phase2', 'HR_TD_Kurtosis_phase2', 'HR_TD_Skew_phase2', 'HR_TD_Slope_min_phase2', 'HR_TD_Slope_max_phase2', 'HR_TD_Slope_mean_phase2', 'HR_TD_Slope_phase2', 'TEMP_TD_Mean_phase2', 'TEMP_TD_Median_phase2', 'TEMP_TD_std_phase2', 'TEMP_TD_Min_phase2', 'TEMP_TD_Max_phase2', 'TEMP_TD_AUC_phase2', 'TEMP_TD_Kurtosis_phase2', 'TEMP_TD_Skew_phase2', 'TEMP_TD_Slope_min_phase2', 'TEMP_TD_Slope_max_phase2', 'TEMP_TD_Slope_mean_phase2', 'TEMP_TD_Slope_phase2', 'EDA_TD_P_Mean_phase2', 'EDA_TD_P_Median_phase2', 'EDA_TD_P_std_phase2', 'EDA_TD_P_Min_phase2', 'EDA_TD_P_Max_phase2', 'EDA_TD_P_AUC_phase2', 'EDA_TD_P_Kurtosis_phase2', 'EDA_TD_P_Skew_phase2', 'EDA_TD_P_Slope_min_phase2', 'EDA_TD_P_Slope_max_phase2', 'EDA_TD_P_Slope_mean_phase2', 'EDA_TD_P_Slope_phase2', 'EDA_TD_T_Mean_phase2', 'EDA_TD_T_Median_phase2', 'EDA_TD_T_std_phase2', 'EDA_TD_T_Min_phase2', 'EDA_TD_T_Max_phase2', 'EDA_TD_T_AUC_phase2', 'EDA_TD_T_Kurtosis_phase2', 'EDA_TD_T_Skew_phase2', 'EDA_TD_T_Slope_min_phase2', 'EDA_TD_T_Slope_max_phase2', 'EDA_TD_T_Slope_mean_phase2', 'EDA_TD_T_Slope_phase2', 'EDA_TD_P_Peaks_phase2', 'EDA_TD_P_RT_phase2', 'EDA_TD_P_ReT_phase2', 'Phase_phase2', 'Puzzler_phase2', 'Frustrated_phase2', 'Cohort_phase2', 'upset_phase2', 'hostile_phase2', 'alert_phase2', 'ashamed_phase2', 'inspired_phase2', 'nervous_phase2', 'attentive_phase2', 'afraid_phase2', 'active_phase2', 'determined_phase2', 'Unnamed: 0_phase3', 'HR_TD_Mean_phase3', 'HR_TD_Median_phase3', 'HR_TD_std_phase3', 'HR_TD_Min_phase3', 'HR_TD_Max_phase3', 'HR_TD_AUC_phase3', 'HR_TD_Kurtosis_phase3', 'HR_TD_Skew_phase3', 'HR_TD_Slope_min_phase3', 'HR_TD_Slope_max_phase3', 'HR_TD_Slope_mean_phase3', 'HR_TD_Slope_phase3', 'TEMP_TD_Mean_phase3', 'TEMP_TD_Median_phase3', 'TEMP_TD_std_phase3', 'TEMP_TD_Min_phase3', 'TEMP_TD_Max_phase3', 'TEMP_TD_AUC_phase3', 'TEMP_TD_Kurtosis_phase3', 'TEMP_TD_Skew_phase3', 'TEMP_TD_Slope_min_phase3', 'TEMP_TD_Slope_max_phase3', 'TEMP_TD_Slope_mean_phase3', 'TEMP_TD_Slope_phase3', 'EDA_TD_P_Mean_phase3', 'EDA_TD_P_Median_phase3', 'EDA_TD_P_std_phase3', 'EDA_TD_P_Min_phase3', 'EDA_TD_P_Max_phase3', 'EDA_TD_P_AUC_phase3', 'EDA_TD_P_Kurtosis_phase3', 'EDA_TD_P_Skew_phase3', 'EDA_TD_P_Slope_min_phase3', 'EDA_TD_P_Slope_max_phase3', 'EDA_TD_P_Slope_mean_phase3', 'EDA_TD_P_Slope_phase3', 'EDA_TD_T_Mean_phase3', 'EDA_TD_T_Median_phase3', 'EDA_TD_T_std_phase3', 'EDA_TD_T_Min_phase3', 'EDA_TD_T_Max_phase3', 'EDA_TD_T_AUC_phase3', 'EDA_TD_T_Kurtosis_phase3', 'EDA_TD_T_Skew_phase3', 'EDA_TD_T_Slope_min_phase3', 'EDA_TD_T_Slope_max_phase3', 'EDA_TD_T_Slope_mean_phase3', 'EDA_TD_T_Slope_phase3', 'EDA_TD_P_Peaks_phase3', 'EDA_TD_P_RT_phase3', 'EDA_TD_P_ReT_phase3', 'Phase_phase3', 'Puzzler_phase3', 'Frustrated_phase3', 'Cohort_phase3', 'upset_phase3', 'hostile_phase3', 'alert_phase3', 'ashamed_phase3', 'inspired_phase3', 'nervous_phase3', 'attentive_phase3', 'afraid_phase3', 'active_phase3', 'determined_phase3']\n"
     ]
    }
   ],
   "source": [
    "merged = pd.merge(df_phase1, df_phase2, on=['Individual', 'Round'], suffixes=('_phase1', '_phase2'))\n",
    "\n",
    "exclude_columns = ['Individual', 'Round']\n",
    "df_phase3_renamed = df_phase3.rename(columns={col: col + '_phase3' for col in df_phase3.columns if col not in exclude_columns})\n",
    "merged = pd.merge(merged, df_phase3_renamed, on=['Individual', 'Round'])\n",
    "\n",
    "print(list(merged.columns))\n"
   ]
  },
  {
   "cell_type": "markdown",
   "id": "93a72b5c",
   "metadata": {},
   "source": [
    "### Create the differences in emotions"
   ]
  },
  {
   "cell_type": "code",
   "execution_count": 5,
   "id": "02d97f80",
   "metadata": {},
   "outputs": [],
   "source": [
    "# Define the emotion columns\n",
    "emotions_columns = [\"Frustrated\", \"upset\", \"hostile\", \"alert\", \"ashamed\", \"inspired\", \"nervous\", \"attentive\", \"afraid\", \"active\", \"determined\"]\n",
    "\n",
    "merged_emotions = merged\n",
    "\n",
    "# For each emotion column, create the difference between phase1 and phase2, and between phase2 and phase3\n",
    "for emotion in emotions_columns:\n",
    "    # Create a new column for the difference between phase1 and phase2\n",
    "    merged_emotions[f'{emotion}_diff_phase1_phase2'] = merged_emotions[f'{emotion}_phase1'] - merged_emotions[f'{emotion}_phase2']\n",
    "    \n",
    "    # Create a new column for the difference between phase2 and phase3\n",
    "    merged_emotions[f'{emotion}_diff_phase2_phase3'] = merged_emotions[f'{emotion}_phase2'] - merged_emotions[f'{emotion}_phase3']\n"
   ]
  },
  {
   "cell_type": "code",
   "execution_count": null,
   "id": "08ceb208",
   "metadata": {},
   "outputs": [],
   "source": [
    "merged_emotions.to_csv('../data/HR_data_wide_emotions.csv', index=False)"
   ]
  },
  {
   "cell_type": "markdown",
   "id": "8a2c8620",
   "metadata": {},
   "source": [
    "### Create the differences in physiologicla variables"
   ]
  },
  {
   "cell_type": "code",
   "execution_count": 7,
   "id": "170fb6c1",
   "metadata": {},
   "outputs": [
    {
     "name": "stderr",
     "output_type": "stream",
     "text": [
      "C:\\Users\\Administrator\\AppData\\Local\\Temp\\ipykernel_13296\\1188164001.py:22: PerformanceWarning: DataFrame is highly fragmented.  This is usually the result of calling `frame.insert` many times, which has poor performance.  Consider joining all columns at once using pd.concat(axis=1) instead. To get a de-fragmented frame, use `newframe = frame.copy()`\n",
      "  merged_physiological[f'{variable}_diff_phase1_phase2'] = merged_physiological[f'{variable}_phase1'] - merged_physiological[f'{variable}_phase2']\n",
      "C:\\Users\\Administrator\\AppData\\Local\\Temp\\ipykernel_13296\\1188164001.py:25: PerformanceWarning: DataFrame is highly fragmented.  This is usually the result of calling `frame.insert` many times, which has poor performance.  Consider joining all columns at once using pd.concat(axis=1) instead. To get a de-fragmented frame, use `newframe = frame.copy()`\n",
      "  merged_physiological[f'{variable}_diff_phase2_phase3'] = merged_physiological[f'{variable}_phase2'] - merged_physiological[f'{variable}_phase3']\n",
      "C:\\Users\\Administrator\\AppData\\Local\\Temp\\ipykernel_13296\\1188164001.py:22: PerformanceWarning: DataFrame is highly fragmented.  This is usually the result of calling `frame.insert` many times, which has poor performance.  Consider joining all columns at once using pd.concat(axis=1) instead. To get a de-fragmented frame, use `newframe = frame.copy()`\n",
      "  merged_physiological[f'{variable}_diff_phase1_phase2'] = merged_physiological[f'{variable}_phase1'] - merged_physiological[f'{variable}_phase2']\n",
      "C:\\Users\\Administrator\\AppData\\Local\\Temp\\ipykernel_13296\\1188164001.py:25: PerformanceWarning: DataFrame is highly fragmented.  This is usually the result of calling `frame.insert` many times, which has poor performance.  Consider joining all columns at once using pd.concat(axis=1) instead. To get a de-fragmented frame, use `newframe = frame.copy()`\n",
      "  merged_physiological[f'{variable}_diff_phase2_phase3'] = merged_physiological[f'{variable}_phase2'] - merged_physiological[f'{variable}_phase3']\n",
      "C:\\Users\\Administrator\\AppData\\Local\\Temp\\ipykernel_13296\\1188164001.py:22: PerformanceWarning: DataFrame is highly fragmented.  This is usually the result of calling `frame.insert` many times, which has poor performance.  Consider joining all columns at once using pd.concat(axis=1) instead. To get a de-fragmented frame, use `newframe = frame.copy()`\n",
      "  merged_physiological[f'{variable}_diff_phase1_phase2'] = merged_physiological[f'{variable}_phase1'] - merged_physiological[f'{variable}_phase2']\n",
      "C:\\Users\\Administrator\\AppData\\Local\\Temp\\ipykernel_13296\\1188164001.py:25: PerformanceWarning: DataFrame is highly fragmented.  This is usually the result of calling `frame.insert` many times, which has poor performance.  Consider joining all columns at once using pd.concat(axis=1) instead. To get a de-fragmented frame, use `newframe = frame.copy()`\n",
      "  merged_physiological[f'{variable}_diff_phase2_phase3'] = merged_physiological[f'{variable}_phase2'] - merged_physiological[f'{variable}_phase3']\n",
      "C:\\Users\\Administrator\\AppData\\Local\\Temp\\ipykernel_13296\\1188164001.py:22: PerformanceWarning: DataFrame is highly fragmented.  This is usually the result of calling `frame.insert` many times, which has poor performance.  Consider joining all columns at once using pd.concat(axis=1) instead. To get a de-fragmented frame, use `newframe = frame.copy()`\n",
      "  merged_physiological[f'{variable}_diff_phase1_phase2'] = merged_physiological[f'{variable}_phase1'] - merged_physiological[f'{variable}_phase2']\n",
      "C:\\Users\\Administrator\\AppData\\Local\\Temp\\ipykernel_13296\\1188164001.py:25: PerformanceWarning: DataFrame is highly fragmented.  This is usually the result of calling `frame.insert` many times, which has poor performance.  Consider joining all columns at once using pd.concat(axis=1) instead. To get a de-fragmented frame, use `newframe = frame.copy()`\n",
      "  merged_physiological[f'{variable}_diff_phase2_phase3'] = merged_physiological[f'{variable}_phase2'] - merged_physiological[f'{variable}_phase3']\n",
      "C:\\Users\\Administrator\\AppData\\Local\\Temp\\ipykernel_13296\\1188164001.py:22: PerformanceWarning: DataFrame is highly fragmented.  This is usually the result of calling `frame.insert` many times, which has poor performance.  Consider joining all columns at once using pd.concat(axis=1) instead. To get a de-fragmented frame, use `newframe = frame.copy()`\n",
      "  merged_physiological[f'{variable}_diff_phase1_phase2'] = merged_physiological[f'{variable}_phase1'] - merged_physiological[f'{variable}_phase2']\n",
      "C:\\Users\\Administrator\\AppData\\Local\\Temp\\ipykernel_13296\\1188164001.py:25: PerformanceWarning: DataFrame is highly fragmented.  This is usually the result of calling `frame.insert` many times, which has poor performance.  Consider joining all columns at once using pd.concat(axis=1) instead. To get a de-fragmented frame, use `newframe = frame.copy()`\n",
      "  merged_physiological[f'{variable}_diff_phase2_phase3'] = merged_physiological[f'{variable}_phase2'] - merged_physiological[f'{variable}_phase3']\n",
      "C:\\Users\\Administrator\\AppData\\Local\\Temp\\ipykernel_13296\\1188164001.py:22: PerformanceWarning: DataFrame is highly fragmented.  This is usually the result of calling `frame.insert` many times, which has poor performance.  Consider joining all columns at once using pd.concat(axis=1) instead. To get a de-fragmented frame, use `newframe = frame.copy()`\n",
      "  merged_physiological[f'{variable}_diff_phase1_phase2'] = merged_physiological[f'{variable}_phase1'] - merged_physiological[f'{variable}_phase2']\n",
      "C:\\Users\\Administrator\\AppData\\Local\\Temp\\ipykernel_13296\\1188164001.py:25: PerformanceWarning: DataFrame is highly fragmented.  This is usually the result of calling `frame.insert` many times, which has poor performance.  Consider joining all columns at once using pd.concat(axis=1) instead. To get a de-fragmented frame, use `newframe = frame.copy()`\n",
      "  merged_physiological[f'{variable}_diff_phase2_phase3'] = merged_physiological[f'{variable}_phase2'] - merged_physiological[f'{variable}_phase3']\n",
      "C:\\Users\\Administrator\\AppData\\Local\\Temp\\ipykernel_13296\\1188164001.py:22: PerformanceWarning: DataFrame is highly fragmented.  This is usually the result of calling `frame.insert` many times, which has poor performance.  Consider joining all columns at once using pd.concat(axis=1) instead. To get a de-fragmented frame, use `newframe = frame.copy()`\n",
      "  merged_physiological[f'{variable}_diff_phase1_phase2'] = merged_physiological[f'{variable}_phase1'] - merged_physiological[f'{variable}_phase2']\n",
      "C:\\Users\\Administrator\\AppData\\Local\\Temp\\ipykernel_13296\\1188164001.py:25: PerformanceWarning: DataFrame is highly fragmented.  This is usually the result of calling `frame.insert` many times, which has poor performance.  Consider joining all columns at once using pd.concat(axis=1) instead. To get a de-fragmented frame, use `newframe = frame.copy()`\n",
      "  merged_physiological[f'{variable}_diff_phase2_phase3'] = merged_physiological[f'{variable}_phase2'] - merged_physiological[f'{variable}_phase3']\n",
      "C:\\Users\\Administrator\\AppData\\Local\\Temp\\ipykernel_13296\\1188164001.py:22: PerformanceWarning: DataFrame is highly fragmented.  This is usually the result of calling `frame.insert` many times, which has poor performance.  Consider joining all columns at once using pd.concat(axis=1) instead. To get a de-fragmented frame, use `newframe = frame.copy()`\n",
      "  merged_physiological[f'{variable}_diff_phase1_phase2'] = merged_physiological[f'{variable}_phase1'] - merged_physiological[f'{variable}_phase2']\n",
      "C:\\Users\\Administrator\\AppData\\Local\\Temp\\ipykernel_13296\\1188164001.py:25: PerformanceWarning: DataFrame is highly fragmented.  This is usually the result of calling `frame.insert` many times, which has poor performance.  Consider joining all columns at once using pd.concat(axis=1) instead. To get a de-fragmented frame, use `newframe = frame.copy()`\n",
      "  merged_physiological[f'{variable}_diff_phase2_phase3'] = merged_physiological[f'{variable}_phase2'] - merged_physiological[f'{variable}_phase3']\n",
      "C:\\Users\\Administrator\\AppData\\Local\\Temp\\ipykernel_13296\\1188164001.py:22: PerformanceWarning: DataFrame is highly fragmented.  This is usually the result of calling `frame.insert` many times, which has poor performance.  Consider joining all columns at once using pd.concat(axis=1) instead. To get a de-fragmented frame, use `newframe = frame.copy()`\n",
      "  merged_physiological[f'{variable}_diff_phase1_phase2'] = merged_physiological[f'{variable}_phase1'] - merged_physiological[f'{variable}_phase2']\n",
      "C:\\Users\\Administrator\\AppData\\Local\\Temp\\ipykernel_13296\\1188164001.py:25: PerformanceWarning: DataFrame is highly fragmented.  This is usually the result of calling `frame.insert` many times, which has poor performance.  Consider joining all columns at once using pd.concat(axis=1) instead. To get a de-fragmented frame, use `newframe = frame.copy()`\n",
      "  merged_physiological[f'{variable}_diff_phase2_phase3'] = merged_physiological[f'{variable}_phase2'] - merged_physiological[f'{variable}_phase3']\n",
      "C:\\Users\\Administrator\\AppData\\Local\\Temp\\ipykernel_13296\\1188164001.py:22: PerformanceWarning: DataFrame is highly fragmented.  This is usually the result of calling `frame.insert` many times, which has poor performance.  Consider joining all columns at once using pd.concat(axis=1) instead. To get a de-fragmented frame, use `newframe = frame.copy()`\n",
      "  merged_physiological[f'{variable}_diff_phase1_phase2'] = merged_physiological[f'{variable}_phase1'] - merged_physiological[f'{variable}_phase2']\n",
      "C:\\Users\\Administrator\\AppData\\Local\\Temp\\ipykernel_13296\\1188164001.py:25: PerformanceWarning: DataFrame is highly fragmented.  This is usually the result of calling `frame.insert` many times, which has poor performance.  Consider joining all columns at once using pd.concat(axis=1) instead. To get a de-fragmented frame, use `newframe = frame.copy()`\n",
      "  merged_physiological[f'{variable}_diff_phase2_phase3'] = merged_physiological[f'{variable}_phase2'] - merged_physiological[f'{variable}_phase3']\n",
      "C:\\Users\\Administrator\\AppData\\Local\\Temp\\ipykernel_13296\\1188164001.py:22: PerformanceWarning: DataFrame is highly fragmented.  This is usually the result of calling `frame.insert` many times, which has poor performance.  Consider joining all columns at once using pd.concat(axis=1) instead. To get a de-fragmented frame, use `newframe = frame.copy()`\n",
      "  merged_physiological[f'{variable}_diff_phase1_phase2'] = merged_physiological[f'{variable}_phase1'] - merged_physiological[f'{variable}_phase2']\n",
      "C:\\Users\\Administrator\\AppData\\Local\\Temp\\ipykernel_13296\\1188164001.py:25: PerformanceWarning: DataFrame is highly fragmented.  This is usually the result of calling `frame.insert` many times, which has poor performance.  Consider joining all columns at once using pd.concat(axis=1) instead. To get a de-fragmented frame, use `newframe = frame.copy()`\n",
      "  merged_physiological[f'{variable}_diff_phase2_phase3'] = merged_physiological[f'{variable}_phase2'] - merged_physiological[f'{variable}_phase3']\n",
      "C:\\Users\\Administrator\\AppData\\Local\\Temp\\ipykernel_13296\\1188164001.py:22: PerformanceWarning: DataFrame is highly fragmented.  This is usually the result of calling `frame.insert` many times, which has poor performance.  Consider joining all columns at once using pd.concat(axis=1) instead. To get a de-fragmented frame, use `newframe = frame.copy()`\n",
      "  merged_physiological[f'{variable}_diff_phase1_phase2'] = merged_physiological[f'{variable}_phase1'] - merged_physiological[f'{variable}_phase2']\n",
      "C:\\Users\\Administrator\\AppData\\Local\\Temp\\ipykernel_13296\\1188164001.py:25: PerformanceWarning: DataFrame is highly fragmented.  This is usually the result of calling `frame.insert` many times, which has poor performance.  Consider joining all columns at once using pd.concat(axis=1) instead. To get a de-fragmented frame, use `newframe = frame.copy()`\n",
      "  merged_physiological[f'{variable}_diff_phase2_phase3'] = merged_physiological[f'{variable}_phase2'] - merged_physiological[f'{variable}_phase3']\n",
      "C:\\Users\\Administrator\\AppData\\Local\\Temp\\ipykernel_13296\\1188164001.py:22: PerformanceWarning: DataFrame is highly fragmented.  This is usually the result of calling `frame.insert` many times, which has poor performance.  Consider joining all columns at once using pd.concat(axis=1) instead. To get a de-fragmented frame, use `newframe = frame.copy()`\n",
      "  merged_physiological[f'{variable}_diff_phase1_phase2'] = merged_physiological[f'{variable}_phase1'] - merged_physiological[f'{variable}_phase2']\n",
      "C:\\Users\\Administrator\\AppData\\Local\\Temp\\ipykernel_13296\\1188164001.py:25: PerformanceWarning: DataFrame is highly fragmented.  This is usually the result of calling `frame.insert` many times, which has poor performance.  Consider joining all columns at once using pd.concat(axis=1) instead. To get a de-fragmented frame, use `newframe = frame.copy()`\n",
      "  merged_physiological[f'{variable}_diff_phase2_phase3'] = merged_physiological[f'{variable}_phase2'] - merged_physiological[f'{variable}_phase3']\n",
      "C:\\Users\\Administrator\\AppData\\Local\\Temp\\ipykernel_13296\\1188164001.py:22: PerformanceWarning: DataFrame is highly fragmented.  This is usually the result of calling `frame.insert` many times, which has poor performance.  Consider joining all columns at once using pd.concat(axis=1) instead. To get a de-fragmented frame, use `newframe = frame.copy()`\n",
      "  merged_physiological[f'{variable}_diff_phase1_phase2'] = merged_physiological[f'{variable}_phase1'] - merged_physiological[f'{variable}_phase2']\n",
      "C:\\Users\\Administrator\\AppData\\Local\\Temp\\ipykernel_13296\\1188164001.py:25: PerformanceWarning: DataFrame is highly fragmented.  This is usually the result of calling `frame.insert` many times, which has poor performance.  Consider joining all columns at once using pd.concat(axis=1) instead. To get a de-fragmented frame, use `newframe = frame.copy()`\n",
      "  merged_physiological[f'{variable}_diff_phase2_phase3'] = merged_physiological[f'{variable}_phase2'] - merged_physiological[f'{variable}_phase3']\n",
      "C:\\Users\\Administrator\\AppData\\Local\\Temp\\ipykernel_13296\\1188164001.py:22: PerformanceWarning: DataFrame is highly fragmented.  This is usually the result of calling `frame.insert` many times, which has poor performance.  Consider joining all columns at once using pd.concat(axis=1) instead. To get a de-fragmented frame, use `newframe = frame.copy()`\n",
      "  merged_physiological[f'{variable}_diff_phase1_phase2'] = merged_physiological[f'{variable}_phase1'] - merged_physiological[f'{variable}_phase2']\n",
      "C:\\Users\\Administrator\\AppData\\Local\\Temp\\ipykernel_13296\\1188164001.py:25: PerformanceWarning: DataFrame is highly fragmented.  This is usually the result of calling `frame.insert` many times, which has poor performance.  Consider joining all columns at once using pd.concat(axis=1) instead. To get a de-fragmented frame, use `newframe = frame.copy()`\n",
      "  merged_physiological[f'{variable}_diff_phase2_phase3'] = merged_physiological[f'{variable}_phase2'] - merged_physiological[f'{variable}_phase3']\n"
     ]
    }
   ],
   "source": [
    "# Define the emotion columns\n",
    "physiological_columns = ['HR_TD_Mean', 'HR_TD_Median', 'HR_TD_std',\n",
    "       'HR_TD_Min', 'HR_TD_Max', 'HR_TD_AUC', 'HR_TD_Kurtosis', 'HR_TD_Skew',\n",
    "       'HR_TD_Slope_min', 'HR_TD_Slope_max', 'HR_TD_Slope_mean', 'HR_TD_Slope',\n",
    "       'TEMP_TD_Mean', 'TEMP_TD_Median', 'TEMP_TD_std', 'TEMP_TD_Min',\n",
    "       'TEMP_TD_Max', 'TEMP_TD_AUC', 'TEMP_TD_Kurtosis', 'TEMP_TD_Skew',\n",
    "       'TEMP_TD_Slope_min', 'TEMP_TD_Slope_max', 'TEMP_TD_Slope_mean',\n",
    "       'TEMP_TD_Slope', 'EDA_TD_P_Mean', 'EDA_TD_P_Median', 'EDA_TD_P_std',\n",
    "       'EDA_TD_P_Min', 'EDA_TD_P_Max', 'EDA_TD_P_AUC', 'EDA_TD_P_Kurtosis',\n",
    "       'EDA_TD_P_Skew', 'EDA_TD_P_Slope_min', 'EDA_TD_P_Slope_max',\n",
    "       'EDA_TD_P_Slope_mean', 'EDA_TD_P_Slope', 'EDA_TD_T_Mean',\n",
    "       'EDA_TD_T_Median', 'EDA_TD_T_std', 'EDA_TD_T_Min', 'EDA_TD_T_Max',\n",
    "       'EDA_TD_T_AUC', 'EDA_TD_T_Kurtosis', 'EDA_TD_T_Skew',\n",
    "       'EDA_TD_T_Slope_min', 'EDA_TD_T_Slope_max', 'EDA_TD_T_Slope_mean',\n",
    "       'EDA_TD_T_Slope', 'EDA_TD_P_Peaks', 'EDA_TD_P_RT', 'EDA_TD_P_ReT']\n",
    "\n",
    "merged_physiological = merged\n",
    "\n",
    "# For each emotion column, create the difference between phase1 and phase2, and between phase2 and phase3\n",
    "for variable in physiological_columns:\n",
    "    # Create a new column for the difference between phase1 and phase2\n",
    "    merged_physiological[f'{variable}_diff_phase1_phase2'] = merged_physiological[f'{variable}_phase1'] - merged_physiological[f'{variable}_phase2']\n",
    "    \n",
    "    # Create a new column for the difference between phase2 and phase3\n",
    "    merged_physiological[f'{variable}_diff_phase2_phase3'] = merged_physiological[f'{variable}_phase2'] - merged_physiological[f'{variable}_phase3']"
   ]
  },
  {
   "cell_type": "code",
   "execution_count": 8,
   "id": "a24b2090",
   "metadata": {},
   "outputs": [],
   "source": [
    "merged_physiological.to_csv('../data/HR_data_wide_physiological.csv', index=False)"
   ]
  }
 ],
 "metadata": {
  "kernelspec": {
   "display_name": "myenv",
   "language": "python",
   "name": "python3"
  },
  "language_info": {
   "codemirror_mode": {
    "name": "ipython",
    "version": 3
   },
   "file_extension": ".py",
   "mimetype": "text/x-python",
   "name": "python",
   "nbconvert_exporter": "python",
   "pygments_lexer": "ipython3",
   "version": "3.12.10"
  }
 },
 "nbformat": 4,
 "nbformat_minor": 5
}
