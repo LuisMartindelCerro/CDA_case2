{
 "cells": [
  {
   "cell_type": "code",
   "execution_count": 609,
   "metadata": {},
   "outputs": [],
   "source": [
    "import numpy as np\n",
    "import pandas as pd\n",
    "import matplotlib.pyplot as plt\n",
    "import seaborn as sns"
   ]
  },
  {
   "cell_type": "markdown",
   "metadata": {},
   "source": [
    "# **Data**"
   ]
  },
  {
   "cell_type": "code",
   "execution_count": 610,
   "metadata": {},
   "outputs": [],
   "source": [
    "# Load data\n",
    "df = pd.read_csv('data/HR_data.csv')"
   ]
  },
  {
   "cell_type": "code",
   "execution_count": 611,
   "metadata": {},
   "outputs": [
    {
     "name": "stdout",
     "output_type": "stream",
     "text": [
      "There are 26 different participants.\n",
      "\n",
      "There are 312 observations in total.\n",
      "\n",
      "Participants in cohort D1_1: [7, 8, 9, 10, 11, 12, 13, 14]\n",
      "Participants in cohort D1_2: [15, 16, 17, 18, 19, 20]\n",
      "Participants in cohort D1_3: [21, 22, 23, 24]\n",
      "Participants in cohort D1_4: [1, 2, 3, 4]\n",
      "Participants in cohort D1_5: [25, 26]\n",
      "Participants in cohort D1_6: [5, 6]\n"
     ]
    }
   ],
   "source": [
    "# Inspect data\n",
    "# How many participants do we have\n",
    "print(f'There are {np.max(df['Individual'].unique())} different participants.')\n",
    "\n",
    "# How many observations in total\n",
    "# There will be 4 rounds x 3 phases recordings per participant \n",
    "print(f'\\nThere are {len(df)} observations in total.\\n')\n",
    "\n",
    "# Participants only play once (in one cohort)\n",
    "cohorts = df['Cohort'].unique()\n",
    "cohorts.sort()\n",
    "\n",
    "for cohort in cohorts:\n",
    "    df_cohort = df.copy()\n",
    "    df_cohort = df[df['Cohort'] == cohort]\n",
    "    print(f\"Participants in cohort {cohort}: {df_cohort['Individual'].unique().tolist()}\")"
   ]
  },
  {
   "cell_type": "code",
   "execution_count": 612,
   "metadata": {},
   "outputs": [],
   "source": [
    "# Order the data frame so it is more clear to read\n",
    "df_new = df.copy()\n",
    "df_new = df_new.sort_values(by=['Cohort', 'Round', 'Phase'])\n",
    "df_new.reset_index(drop=True, inplace=True)\n",
    "\n",
    "# Define the columns to move to the front\n",
    "cols_to_front = ['Unnamed: 0','Cohort', 'Round', 'Phase','Individual','Puzzler']\n",
    "\n",
    "# Get all other columns, excluding the ones moved to the front\n",
    "other_cols = [col for col in df_new.columns if col not in cols_to_front]\n",
    "\n",
    "# Create the new column order\n",
    "new_column_order = cols_to_front + other_cols\n",
    "\n",
    "# Reindex the DataFrame with the new column order\n",
    "df_new = df_new[new_column_order]"
   ]
  },
  {
   "cell_type": "code",
   "execution_count": 613,
   "metadata": {},
   "outputs": [
    {
     "data": {
      "text/plain": [
       "Index(['Unnamed: 0', 'Cohort', 'Round', 'Phase', 'Individual', 'Puzzler',\n",
       "       'HR_TD_Mean', 'HR_TD_Median', 'HR_TD_std', 'HR_TD_Min', 'HR_TD_Max',\n",
       "       'HR_TD_AUC', 'HR_TD_Kurtosis', 'HR_TD_Skew', 'HR_TD_Slope_min',\n",
       "       'HR_TD_Slope_max', 'HR_TD_Slope_mean', 'HR_TD_Slope', 'TEMP_TD_Mean',\n",
       "       'TEMP_TD_Median', 'TEMP_TD_std', 'TEMP_TD_Min', 'TEMP_TD_Max',\n",
       "       'TEMP_TD_AUC', 'TEMP_TD_Kurtosis', 'TEMP_TD_Skew', 'TEMP_TD_Slope_min',\n",
       "       'TEMP_TD_Slope_max', 'TEMP_TD_Slope_mean', 'TEMP_TD_Slope',\n",
       "       'EDA_TD_P_Mean', 'EDA_TD_P_Median', 'EDA_TD_P_std', 'EDA_TD_P_Min',\n",
       "       'EDA_TD_P_Max', 'EDA_TD_P_AUC', 'EDA_TD_P_Kurtosis', 'EDA_TD_P_Skew',\n",
       "       'EDA_TD_P_Slope_min', 'EDA_TD_P_Slope_max', 'EDA_TD_P_Slope_mean',\n",
       "       'EDA_TD_P_Slope', 'EDA_TD_T_Mean', 'EDA_TD_T_Median', 'EDA_TD_T_std',\n",
       "       'EDA_TD_T_Min', 'EDA_TD_T_Max', 'EDA_TD_T_AUC', 'EDA_TD_T_Kurtosis',\n",
       "       'EDA_TD_T_Skew', 'EDA_TD_T_Slope_min', 'EDA_TD_T_Slope_max',\n",
       "       'EDA_TD_T_Slope_mean', 'EDA_TD_T_Slope', 'EDA_TD_P_Peaks',\n",
       "       'EDA_TD_P_RT', 'EDA_TD_P_ReT', 'Frustrated', 'upset', 'hostile',\n",
       "       'alert', 'ashamed', 'inspired', 'nervous', 'attentive', 'afraid',\n",
       "       'active', 'determined'],\n",
       "      dtype='object')"
      ]
     },
     "execution_count": 613,
     "metadata": {},
     "output_type": "execute_result"
    }
   ],
   "source": [
    "df_new.columns"
   ]
  },
  {
   "cell_type": "code",
   "execution_count": 614,
   "metadata": {},
   "outputs": [
    {
     "name": "stdout",
     "output_type": "stream",
     "text": [
      "NaN values in each column:\n",
      "EDA_TD_P_RT     1\n",
      "EDA_TD_P_ReT    1\n",
      "inspired        2\n",
      "attentive       1\n",
      "afraid          1\n",
      "active          1\n",
      "determined      2\n",
      "dtype: int64\n",
      "Rows with NaN values:\n",
      "Index([28, 52, 68, 74, 206], dtype='int64')\n"
     ]
    }
   ],
   "source": [
    "nan_counts = df_new.isnull().sum()\n",
    "\n",
    "# Display columns with NaN values and their counts\n",
    "print(\"NaN values in each column:\")\n",
    "print(nan_counts[nan_counts > 0])\n",
    "\n",
    "\n",
    "rows_with_nan = df_new[df_new.isnull().any(axis=1)]\n",
    "\n",
    "# Display the rows with NaN values\n",
    "print(\"Rows with NaN values:\")\n",
    "print(rows_with_nan.index)"
   ]
  },
  {
   "cell_type": "code",
   "execution_count": 615,
   "metadata": {},
   "outputs": [
    {
     "name": "stdout",
     "output_type": "stream",
     "text": [
      "Subset of DataFrame showing only rows and columns with missing values:\n"
     ]
    },
    {
     "data": {
      "text/html": [
       "<div>\n",
       "<style scoped>\n",
       "    .dataframe tbody tr th:only-of-type {\n",
       "        vertical-align: middle;\n",
       "    }\n",
       "\n",
       "    .dataframe tbody tr th {\n",
       "        vertical-align: top;\n",
       "    }\n",
       "\n",
       "    .dataframe thead th {\n",
       "        text-align: right;\n",
       "    }\n",
       "</style>\n",
       "<table border=\"1\" class=\"dataframe\">\n",
       "  <thead>\n",
       "    <tr style=\"text-align: right;\">\n",
       "      <th></th>\n",
       "      <th>EDA_TD_P_RT</th>\n",
       "      <th>EDA_TD_P_ReT</th>\n",
       "      <th>inspired</th>\n",
       "      <th>attentive</th>\n",
       "      <th>afraid</th>\n",
       "      <th>active</th>\n",
       "      <th>determined</th>\n",
       "    </tr>\n",
       "  </thead>\n",
       "  <tbody>\n",
       "    <tr>\n",
       "      <th>28</th>\n",
       "      <td>2.108696</td>\n",
       "      <td>1.911765</td>\n",
       "      <td>NaN</td>\n",
       "      <td>3.0</td>\n",
       "      <td>4.0</td>\n",
       "      <td>2.0</td>\n",
       "      <td>2.0</td>\n",
       "    </tr>\n",
       "    <tr>\n",
       "      <th>52</th>\n",
       "      <td>3.387500</td>\n",
       "      <td>2.367647</td>\n",
       "      <td>NaN</td>\n",
       "      <td>3.0</td>\n",
       "      <td>1.0</td>\n",
       "      <td>2.0</td>\n",
       "      <td>3.0</td>\n",
       "    </tr>\n",
       "    <tr>\n",
       "      <th>68</th>\n",
       "      <td>1.968750</td>\n",
       "      <td>2.703125</td>\n",
       "      <td>2.0</td>\n",
       "      <td>2.0</td>\n",
       "      <td>1.0</td>\n",
       "      <td>2.0</td>\n",
       "      <td>NaN</td>\n",
       "    </tr>\n",
       "    <tr>\n",
       "      <th>74</th>\n",
       "      <td>2.321429</td>\n",
       "      <td>1.892857</td>\n",
       "      <td>2.0</td>\n",
       "      <td>NaN</td>\n",
       "      <td>NaN</td>\n",
       "      <td>NaN</td>\n",
       "      <td>NaN</td>\n",
       "    </tr>\n",
       "    <tr>\n",
       "      <th>206</th>\n",
       "      <td>NaN</td>\n",
       "      <td>NaN</td>\n",
       "      <td>2.0</td>\n",
       "      <td>3.0</td>\n",
       "      <td>1.0</td>\n",
       "      <td>3.0</td>\n",
       "      <td>3.0</td>\n",
       "    </tr>\n",
       "  </tbody>\n",
       "</table>\n",
       "</div>"
      ],
      "text/plain": [
       "     EDA_TD_P_RT  EDA_TD_P_ReT  inspired  attentive  afraid  active  \\\n",
       "28      2.108696      1.911765       NaN        3.0     4.0     2.0   \n",
       "52      3.387500      2.367647       NaN        3.0     1.0     2.0   \n",
       "68      1.968750      2.703125       2.0        2.0     1.0     2.0   \n",
       "74      2.321429      1.892857       2.0        NaN     NaN     NaN   \n",
       "206          NaN           NaN       2.0        3.0     1.0     3.0   \n",
       "\n",
       "     determined  \n",
       "28          2.0  \n",
       "52          3.0  \n",
       "68          NaN  \n",
       "74          NaN  \n",
       "206         3.0  "
      ]
     },
     "execution_count": 615,
     "metadata": {},
     "output_type": "execute_result"
    }
   ],
   "source": [
    "# Identify columns with nan values\n",
    "nan_counts = df_new.isnull().sum()\n",
    "cols_with_nan = nan_counts[nan_counts > 0].index\n",
    "\n",
    "# Identify rows with nan values\n",
    "rows_with_nan_index = df_new[df_new.isnull().any(axis=1)].index\n",
    "\n",
    "# See the specific rows and columns with nan values\n",
    "print(\"Subset of DataFrame showing only rows and columns with missing values:\")\n",
    "df_new.loc[rows_with_nan_index, cols_with_nan]"
   ]
  },
  {
   "cell_type": "code",
   "execution_count": 616,
   "metadata": {},
   "outputs": [
    {
     "name": "stdout",
     "output_type": "stream",
     "text": [
      "Subset of DataFrame showing only rows and columns with missing values:\n"
     ]
    },
    {
     "data": {
      "text/html": [
       "<div>\n",
       "<style scoped>\n",
       "    .dataframe tbody tr th:only-of-type {\n",
       "        vertical-align: middle;\n",
       "    }\n",
       "\n",
       "    .dataframe tbody tr th {\n",
       "        vertical-align: top;\n",
       "    }\n",
       "\n",
       "    .dataframe thead th {\n",
       "        text-align: right;\n",
       "    }\n",
       "</style>\n",
       "<table border=\"1\" class=\"dataframe\">\n",
       "  <thead>\n",
       "    <tr style=\"text-align: right;\">\n",
       "      <th></th>\n",
       "      <th>EDA_TD_P_RT</th>\n",
       "      <th>EDA_TD_P_ReT</th>\n",
       "      <th>inspired</th>\n",
       "      <th>attentive</th>\n",
       "      <th>afraid</th>\n",
       "      <th>active</th>\n",
       "      <th>determined</th>\n",
       "    </tr>\n",
       "  </thead>\n",
       "  <tbody>\n",
       "    <tr>\n",
       "      <th>28</th>\n",
       "      <td>2.108696</td>\n",
       "      <td>1.911765</td>\n",
       "      <td>NaN</td>\n",
       "      <td>3.0</td>\n",
       "      <td>4.0</td>\n",
       "      <td>2.0</td>\n",
       "      <td>2.0</td>\n",
       "    </tr>\n",
       "    <tr>\n",
       "      <th>52</th>\n",
       "      <td>3.387500</td>\n",
       "      <td>2.367647</td>\n",
       "      <td>NaN</td>\n",
       "      <td>3.0</td>\n",
       "      <td>1.0</td>\n",
       "      <td>2.0</td>\n",
       "      <td>3.0</td>\n",
       "    </tr>\n",
       "    <tr>\n",
       "      <th>68</th>\n",
       "      <td>1.968750</td>\n",
       "      <td>2.703125</td>\n",
       "      <td>2.0</td>\n",
       "      <td>2.0</td>\n",
       "      <td>1.0</td>\n",
       "      <td>2.0</td>\n",
       "      <td>NaN</td>\n",
       "    </tr>\n",
       "    <tr>\n",
       "      <th>74</th>\n",
       "      <td>2.321429</td>\n",
       "      <td>1.892857</td>\n",
       "      <td>2.0</td>\n",
       "      <td>NaN</td>\n",
       "      <td>NaN</td>\n",
       "      <td>NaN</td>\n",
       "      <td>NaN</td>\n",
       "    </tr>\n",
       "    <tr>\n",
       "      <th>206</th>\n",
       "      <td>1.998292</td>\n",
       "      <td>2.013928</td>\n",
       "      <td>2.0</td>\n",
       "      <td>3.0</td>\n",
       "      <td>1.0</td>\n",
       "      <td>3.0</td>\n",
       "      <td>3.0</td>\n",
       "    </tr>\n",
       "  </tbody>\n",
       "</table>\n",
       "</div>"
      ],
      "text/plain": [
       "     EDA_TD_P_RT  EDA_TD_P_ReT  inspired  attentive  afraid  active  \\\n",
       "28      2.108696      1.911765       NaN        3.0     4.0     2.0   \n",
       "52      3.387500      2.367647       NaN        3.0     1.0     2.0   \n",
       "68      1.968750      2.703125       2.0        2.0     1.0     2.0   \n",
       "74      2.321429      1.892857       2.0        NaN     NaN     NaN   \n",
       "206     1.998292      2.013928       2.0        3.0     1.0     3.0   \n",
       "\n",
       "     determined  \n",
       "28          2.0  \n",
       "52          3.0  \n",
       "68          NaN  \n",
       "74          NaN  \n",
       "206         3.0  "
      ]
     },
     "execution_count": 616,
     "metadata": {},
     "output_type": "execute_result"
    }
   ],
   "source": [
    "# Input the EDA values first KNN\n",
    "from sklearn.impute import KNNImputer\n",
    "\n",
    "EDA_cols = ['EDA_TD_P_RT', 'EDA_TD_P_ReT']\n",
    "knn_imputer = KNNImputer(n_neighbors=1)\n",
    "\n",
    "# KNN\n",
    "df_new[EDA_cols] = knn_imputer.fit_transform(df_new[EDA_cols])\n",
    "\n",
    "print(\"Subset of DataFrame showing only rows and columns with missing values:\")\n",
    "# Re-check the specific rows/columns to see the imputed values\n",
    "df_new.loc[rows_with_nan_index, cols_with_nan]"
   ]
  },
  {
   "cell_type": "code",
   "execution_count": 617,
   "metadata": {},
   "outputs": [
    {
     "name": "stdout",
     "output_type": "stream",
     "text": [
      "Subset of DataFrame showing only rows and columns with missing values:\n"
     ]
    },
    {
     "data": {
      "text/html": [
       "<div>\n",
       "<style scoped>\n",
       "    .dataframe tbody tr th:only-of-type {\n",
       "        vertical-align: middle;\n",
       "    }\n",
       "\n",
       "    .dataframe tbody tr th {\n",
       "        vertical-align: top;\n",
       "    }\n",
       "\n",
       "    .dataframe thead th {\n",
       "        text-align: right;\n",
       "    }\n",
       "</style>\n",
       "<table border=\"1\" class=\"dataframe\">\n",
       "  <thead>\n",
       "    <tr style=\"text-align: right;\">\n",
       "      <th></th>\n",
       "      <th>EDA_TD_P_RT</th>\n",
       "      <th>EDA_TD_P_ReT</th>\n",
       "      <th>inspired</th>\n",
       "      <th>attentive</th>\n",
       "      <th>afraid</th>\n",
       "      <th>active</th>\n",
       "      <th>determined</th>\n",
       "    </tr>\n",
       "  </thead>\n",
       "  <tbody>\n",
       "    <tr>\n",
       "      <th>28</th>\n",
       "      <td>2.108696</td>\n",
       "      <td>1.911765</td>\n",
       "      <td>2.0</td>\n",
       "      <td>3.0</td>\n",
       "      <td>4.0</td>\n",
       "      <td>2.0</td>\n",
       "      <td>2.0</td>\n",
       "    </tr>\n",
       "    <tr>\n",
       "      <th>52</th>\n",
       "      <td>3.387500</td>\n",
       "      <td>2.367647</td>\n",
       "      <td>1.0</td>\n",
       "      <td>3.0</td>\n",
       "      <td>1.0</td>\n",
       "      <td>2.0</td>\n",
       "      <td>3.0</td>\n",
       "    </tr>\n",
       "    <tr>\n",
       "      <th>68</th>\n",
       "      <td>1.968750</td>\n",
       "      <td>2.703125</td>\n",
       "      <td>2.0</td>\n",
       "      <td>2.0</td>\n",
       "      <td>1.0</td>\n",
       "      <td>2.0</td>\n",
       "      <td>2.0</td>\n",
       "    </tr>\n",
       "    <tr>\n",
       "      <th>74</th>\n",
       "      <td>2.321429</td>\n",
       "      <td>1.892857</td>\n",
       "      <td>2.0</td>\n",
       "      <td>2.0</td>\n",
       "      <td>1.0</td>\n",
       "      <td>2.0</td>\n",
       "      <td>3.0</td>\n",
       "    </tr>\n",
       "    <tr>\n",
       "      <th>206</th>\n",
       "      <td>1.998292</td>\n",
       "      <td>2.013928</td>\n",
       "      <td>2.0</td>\n",
       "      <td>3.0</td>\n",
       "      <td>1.0</td>\n",
       "      <td>3.0</td>\n",
       "      <td>3.0</td>\n",
       "    </tr>\n",
       "  </tbody>\n",
       "</table>\n",
       "</div>"
      ],
      "text/plain": [
       "     EDA_TD_P_RT  EDA_TD_P_ReT  inspired  attentive  afraid  active  \\\n",
       "28      2.108696      1.911765       2.0        3.0     4.0     2.0   \n",
       "52      3.387500      2.367647       1.0        3.0     1.0     2.0   \n",
       "68      1.968750      2.703125       2.0        2.0     1.0     2.0   \n",
       "74      2.321429      1.892857       2.0        2.0     1.0     2.0   \n",
       "206     1.998292      2.013928       2.0        3.0     1.0     3.0   \n",
       "\n",
       "     determined  \n",
       "28          2.0  \n",
       "52          3.0  \n",
       "68          2.0  \n",
       "74          3.0  \n",
       "206         3.0  "
      ]
     },
     "execution_count": 617,
     "metadata": {},
     "output_type": "execute_result"
    }
   ],
   "source": [
    "# Input the emotion values KNN\n",
    "\n",
    "emotion_cols = ['inspired', 'attentive', 'afraid', 'active', 'determined']\n",
    "knn_imputer = KNNImputer(n_neighbors=5)\n",
    "\n",
    "# KNN and round\n",
    "imputed_values = knn_imputer.fit_transform(df_new[emotion_cols])\n",
    "df_new[emotion_cols] = np.round(imputed_values)\n",
    "\n",
    "print(\"Subset of DataFrame showing only rows and columns with missing values:\")\n",
    "# Re-check the specific rows/columns to see the imputed values\n",
    "df_new.loc[rows_with_nan_index, cols_with_nan]"
   ]
  },
  {
   "cell_type": "markdown",
   "metadata": {},
   "source": [
    "# **PCA**"
   ]
  },
  {
   "cell_type": "markdown",
   "metadata": {},
   "source": [
    "## **Preprocessing**"
   ]
  },
  {
   "cell_type": "code",
   "execution_count": 618,
   "metadata": {},
   "outputs": [],
   "source": [
    "# Drop the initial index, so we keep all the features\n",
    "df_new.drop('Unnamed: 0', axis=1, inplace=True)"
   ]
  },
  {
   "cell_type": "code",
   "execution_count": 619,
   "metadata": {},
   "outputs": [
    {
     "data": {
      "text/plain": [
       "['Cohort', 'Round', 'Phase']"
      ]
     },
     "execution_count": 619,
     "metadata": {},
     "output_type": "execute_result"
    }
   ],
   "source": [
    "# Let's check the categorical columns\n",
    "categorical_columns = df_new.select_dtypes(include=['object']).columns.tolist()\n",
    "categorical_columns"
   ]
  },
  {
   "cell_type": "code",
   "execution_count": 620,
   "metadata": {},
   "outputs": [
    {
     "data": {
      "text/plain": [
       "67"
      ]
     },
     "execution_count": 620,
     "metadata": {},
     "output_type": "execute_result"
    }
   ],
   "source": [
    "from sklearn.preprocessing import OneHotEncoder\n",
    "from sklearn.preprocessing import StandardScaler\n",
    "len(df_new.columns.to_list())"
   ]
  },
  {
   "cell_type": "code",
   "execution_count": 621,
   "metadata": {},
   "outputs": [
    {
     "name": "stdout",
     "output_type": "stream",
     "text": [
      "Categorical columns: ['Cohort', 'Round', 'Phase']\n"
     ]
    },
    {
     "data": {
      "text/plain": [
       "77"
      ]
     },
     "execution_count": 621,
     "metadata": {},
     "output_type": "execute_result"
    }
   ],
   "source": [
    "# Let's check the categorical columns\n",
    "categorical_columns = df_new.select_dtypes(include=['object']).columns.tolist()\n",
    "print(\"Categorical columns:\", categorical_columns)\n",
    "\n",
    "# One Hot encoding\n",
    "encoder = OneHotEncoder(sparse_output=False, drop='if_binary')\n",
    "encoded_data = encoder.fit_transform(df_new[categorical_columns])\n",
    "encoded_df = pd.DataFrame(encoded_data, columns=encoder.get_feature_names_out(categorical_columns))\n",
    "\n",
    "# Combine with the original DataFrame (excluding the encoded columns)\n",
    "df_encoded = pd.concat([df_new.drop(categorical_columns, axis=1), encoded_df], axis=1)\n",
    "df_encoded.columns\n",
    "len(df_encoded.columns.to_list())"
   ]
  },
  {
   "cell_type": "markdown",
   "metadata": {},
   "source": [
    "## **Scaling**"
   ]
  },
  {
   "cell_type": "code",
   "execution_count": 622,
   "metadata": {},
   "outputs": [],
   "source": [
    "scaler = StandardScaler()\n",
    "scaler.fit(df_encoded)\n",
    "scaled_df_encoded = pd.DataFrame(scaler.transform(df_encoded),columns= df_encoded.columns )"
   ]
  },
  {
   "cell_type": "markdown",
   "metadata": {},
   "source": [
    "## **PCA**"
   ]
  },
  {
   "cell_type": "code",
   "execution_count": 623,
   "metadata": {},
   "outputs": [
    {
     "data": {
      "text/plain": [
       "<matplotlib.legend.Legend at 0x1de531e4680>"
      ]
     },
     "execution_count": 623,
     "metadata": {},
     "output_type": "execute_result"
    },
    {
     "data": {
      "image/png": "[encoded data removed]",
      "text/plain": [
       "<Figure size 800x400 with 1 Axes>"
      ]
     },
     "metadata": {},
     "output_type": "display_data"
    }
   ],
   "source": [
    "from sklearn.decomposition import PCA\n",
    "# Applying PCA\n",
    "pca = PCA()\n",
    "df_pca = pca.fit_transform(scaled_df_encoded)\n",
    "# Explained variance\n",
    "explained_variance = pca.explained_variance_ratio_\n",
    "cumulative_variance = np.cumsum(explained_variance)\n",
    "# Plot individual and cumulative explained variance\n",
    "fig = plt.figure(figsize=(8, 4))\n",
    "plt.plot(range(1, len(explained_variance) + 1), explained_variance, marker='o', linestyle='-', color='navy', alpha=0.3, label='Individual Explained Variance')\n",
    "plt.plot(range(1, len(cumulative_variance) + 1), cumulative_variance, marker='o', linestyle='-', color='darkgreen', label='Cumulative Explained Variance')\n",
    "\n",
    "plt.axhline(y=0.90, color='red', linestyle='--', label='Threshold (0.90)')\n",
    "\n",
    "\n",
    "plt.xlabel('Number of Principal Components')\n",
    "# plt.xlim([1,14])\n",
    "# plt.xticks(np.arange(1,15))\n",
    "plt.ylabel('Explained Variance')\n",
    "plt.grid()\n",
    "plt.title('Explained Variance of Principal Components')\n",
    "plt.legend()"
   ]
  },
  {
   "cell_type": "code",
   "execution_count": 624,
   "metadata": {},
   "outputs": [
    {
     "name": "stdout",
     "output_type": "stream",
     "text": [
      "Top features contributing to PC1 (absolute loadings):\n",
      "EDA_TD_P_Max          0.238853\n",
      "EDA_TD_P_std          0.235603\n",
      "EDA_TD_T_std          0.231332\n",
      "EDA_TD_T_Slope_max    0.230410\n",
      "EDA_TD_P_Slope_max    0.228741\n",
      "EDA_TD_P_Slope_min    0.224709\n",
      "EDA_TD_T_Slope_min    0.223371\n",
      "EDA_TD_P_AUC          0.212723\n",
      "EDA_TD_P_Mean         0.211881\n",
      "EDA_TD_T_Max          0.210040\n",
      "Name: PC1, dtype: float64\n",
      "\n",
      "==============================\n",
      "\n",
      "Top features contributing to PC2 (absolute loadings):\n",
      "active            0.258473\n",
      "Phase_phase2      0.227581\n",
      "EDA_TD_P_Peaks    0.226680\n",
      "HR_TD_Mean        0.218403\n",
      "HR_TD_AUC         0.214206\n",
      "alert             0.212554\n",
      "attentive         0.205864\n",
      "HR_TD_Max         0.204189\n",
      "HR_TD_Median      0.201839\n",
      "determined        0.201079\n",
      "Name: PC2, dtype: float64\n",
      "\n",
      "Actual loadings for top PC1 features:\n",
      "EDA_TD_P_Max          0.238853\n",
      "EDA_TD_P_std          0.235603\n",
      "EDA_TD_T_std          0.231332\n",
      "EDA_TD_T_Slope_max    0.230410\n",
      "EDA_TD_P_Slope_max    0.228741\n",
      "EDA_TD_P_Slope_min   -0.224709\n",
      "EDA_TD_T_Slope_min   -0.223371\n",
      "EDA_TD_P_AUC          0.212723\n",
      "EDA_TD_P_Mean         0.211881\n",
      "EDA_TD_T_Max          0.210040\n",
      "Name: PC1, dtype: float64\n",
      "\n",
      "Actual loadings for top PC2 features:\n",
      "active            0.258473\n",
      "Phase_phase2      0.227581\n",
      "EDA_TD_P_Peaks    0.226680\n",
      "HR_TD_Mean        0.218403\n",
      "HR_TD_AUC         0.214206\n",
      "alert             0.212554\n",
      "attentive         0.205864\n",
      "HR_TD_Max         0.204189\n",
      "HR_TD_Median      0.201839\n",
      "determined        0.201079\n",
      "Name: PC2, dtype: float64\n"
     ]
    }
   ],
   "source": [
    "# Get the loadings (components)\n",
    "loadings = pca.components_\n",
    "\n",
    "# Create a DataFrame for easier interpretation\n",
    "# Use the column names from the data used for PCA\n",
    "feature_names = scaled_df_encoded.columns\n",
    "loadings_df = pd.DataFrame(loadings.T, columns=[f'PC{i+1}' for i in range(loadings.shape[0])], index=feature_names)\n",
    "\n",
    "# Get loadings for PC1 sorted by absolute value\n",
    "pc1_loadings = loadings_df['PC1'].abs().sort_values(ascending=False)\n",
    "print(\"Top features contributing to PC1 (absolute loadings):\")\n",
    "print(pc1_loadings.head(10)) # Display top 10 features\n",
    "\n",
    "print(\"\\n\" + \"=\"*30 + \"\\n\") # Separator\n",
    "\n",
    "# Get loadings for PC2 sorted by absolute value\n",
    "pc2_loadings = loadings_df['PC2'].abs().sort_values(ascending=False)\n",
    "print(\"Top features contributing to PC2 (absolute loadings):\")\n",
    "print(pc2_loadings.head(10)) # Display top 10 features\n",
    "\n",
    "# You can also view the actual loadings (positive/negative) for the top features\n",
    "print(\"\\nActual loadings for top PC1 features:\")\n",
    "print(loadings_df.loc[pc1_loadings.head(10).index, 'PC1'])\n",
    "\n",
    "print(\"\\nActual loadings for top PC2 features:\")\n",
    "print(loadings_df.loc[pc2_loadings.head(10).index, 'PC2'])\n"
   ]
  },
  {
   "cell_type": "code",
   "execution_count": 625,
   "metadata": {},
   "outputs": [
    {
     "data": {
      "text/html": [
       "<div>\n",
       "<style scoped>\n",
       "    .dataframe tbody tr th:only-of-type {\n",
       "        vertical-align: middle;\n",
       "    }\n",
       "\n",
       "    .dataframe tbody tr th {\n",
       "        vertical-align: top;\n",
       "    }\n",
       "\n",
       "    .dataframe thead th {\n",
       "        text-align: right;\n",
       "    }\n",
       "</style>\n",
       "<table border=\"1\" class=\"dataframe\">\n",
       "  <thead>\n",
       "    <tr style=\"text-align: right;\">\n",
       "      <th></th>\n",
       "      <th>PC1</th>\n",
       "      <th>PC2</th>\n",
       "      <th>PC3</th>\n",
       "      <th>PC4</th>\n",
       "      <th>PC5</th>\n",
       "      <th>PC6</th>\n",
       "      <th>PC7</th>\n",
       "      <th>PC8</th>\n",
       "      <th>PC9</th>\n",
       "      <th>PC10</th>\n",
       "      <th>...</th>\n",
       "      <th>PC68</th>\n",
       "      <th>PC69</th>\n",
       "      <th>PC70</th>\n",
       "      <th>PC71</th>\n",
       "      <th>PC72</th>\n",
       "      <th>PC73</th>\n",
       "      <th>PC74</th>\n",
       "      <th>PC75</th>\n",
       "      <th>PC76</th>\n",
       "      <th>PC77</th>\n",
       "    </tr>\n",
       "  </thead>\n",
       "  <tbody>\n",
       "    <tr>\n",
       "      <th>Individual</th>\n",
       "      <td>0.059464</td>\n",
       "      <td>0.037196</td>\n",
       "      <td>0.048364</td>\n",
       "      <td>-0.063514</td>\n",
       "      <td>-0.156177</td>\n",
       "      <td>-0.008205</td>\n",
       "      <td>0.364986</td>\n",
       "      <td>-0.001150</td>\n",
       "      <td>0.292768</td>\n",
       "      <td>-0.008556</td>\n",
       "      <td>...</td>\n",
       "      <td>0.011602</td>\n",
       "      <td>0.019831</td>\n",
       "      <td>-0.011844</td>\n",
       "      <td>-0.000171</td>\n",
       "      <td>0.000502</td>\n",
       "      <td>0.000654</td>\n",
       "      <td>-0.000589</td>\n",
       "      <td>0.000000e+00</td>\n",
       "      <td>-0.000000e+00</td>\n",
       "      <td>0.000000e+00</td>\n",
       "    </tr>\n",
       "    <tr>\n",
       "      <th>Puzzler</th>\n",
       "      <td>0.014490</td>\n",
       "      <td>0.020653</td>\n",
       "      <td>0.021465</td>\n",
       "      <td>0.059935</td>\n",
       "      <td>-0.004861</td>\n",
       "      <td>0.084835</td>\n",
       "      <td>0.032040</td>\n",
       "      <td>-0.189148</td>\n",
       "      <td>-0.087311</td>\n",
       "      <td>0.036051</td>\n",
       "      <td>...</td>\n",
       "      <td>0.002708</td>\n",
       "      <td>-0.004119</td>\n",
       "      <td>-0.002391</td>\n",
       "      <td>0.000808</td>\n",
       "      <td>-0.000908</td>\n",
       "      <td>0.000510</td>\n",
       "      <td>-0.000371</td>\n",
       "      <td>-6.872988e-17</td>\n",
       "      <td>-1.137996e-16</td>\n",
       "      <td>-9.181280e-17</td>\n",
       "    </tr>\n",
       "    <tr>\n",
       "      <th>HR_TD_Mean</th>\n",
       "      <td>-0.004257</td>\n",
       "      <td>0.218403</td>\n",
       "      <td>0.198168</td>\n",
       "      <td>0.271407</td>\n",
       "      <td>-0.192190</td>\n",
       "      <td>0.095972</td>\n",
       "      <td>0.044662</td>\n",
       "      <td>-0.027267</td>\n",
       "      <td>-0.012547</td>\n",
       "      <td>-0.036178</td>\n",
       "      <td>...</td>\n",
       "      <td>0.688226</td>\n",
       "      <td>-0.026952</td>\n",
       "      <td>-0.043705</td>\n",
       "      <td>0.065983</td>\n",
       "      <td>0.028765</td>\n",
       "      <td>0.008202</td>\n",
       "      <td>-0.009729</td>\n",
       "      <td>2.101605e-15</td>\n",
       "      <td>1.131382e-15</td>\n",
       "      <td>1.261701e-16</td>\n",
       "    </tr>\n",
       "    <tr>\n",
       "      <th>HR_TD_Median</th>\n",
       "      <td>0.000302</td>\n",
       "      <td>0.201839</td>\n",
       "      <td>0.174057</td>\n",
       "      <td>0.254457</td>\n",
       "      <td>-0.215059</td>\n",
       "      <td>0.140010</td>\n",
       "      <td>0.016798</td>\n",
       "      <td>-0.066733</td>\n",
       "      <td>0.001046</td>\n",
       "      <td>-0.025141</td>\n",
       "      <td>...</td>\n",
       "      <td>-0.204826</td>\n",
       "      <td>0.015578</td>\n",
       "      <td>0.018304</td>\n",
       "      <td>-0.036442</td>\n",
       "      <td>-0.009998</td>\n",
       "      <td>0.000254</td>\n",
       "      <td>0.000515</td>\n",
       "      <td>3.674061e-15</td>\n",
       "      <td>-4.113395e-16</td>\n",
       "      <td>-1.260123e-16</td>\n",
       "    </tr>\n",
       "    <tr>\n",
       "      <th>HR_TD_std</th>\n",
       "      <td>-0.024941</td>\n",
       "      <td>0.144678</td>\n",
       "      <td>0.201758</td>\n",
       "      <td>0.129306</td>\n",
       "      <td>0.099179</td>\n",
       "      <td>-0.209591</td>\n",
       "      <td>0.172585</td>\n",
       "      <td>0.146842</td>\n",
       "      <td>-0.081914</td>\n",
       "      <td>0.000468</td>\n",
       "      <td>...</td>\n",
       "      <td>-0.072120</td>\n",
       "      <td>0.014472</td>\n",
       "      <td>0.033783</td>\n",
       "      <td>-0.020562</td>\n",
       "      <td>-0.005514</td>\n",
       "      <td>-0.003880</td>\n",
       "      <td>0.000174</td>\n",
       "      <td>-1.480594e-15</td>\n",
       "      <td>-3.751103e-16</td>\n",
       "      <td>3.016108e-16</td>\n",
       "    </tr>\n",
       "    <tr>\n",
       "      <th>...</th>\n",
       "      <td>...</td>\n",
       "      <td>...</td>\n",
       "      <td>...</td>\n",
       "      <td>...</td>\n",
       "      <td>...</td>\n",
       "      <td>...</td>\n",
       "      <td>...</td>\n",
       "      <td>...</td>\n",
       "      <td>...</td>\n",
       "      <td>...</td>\n",
       "      <td>...</td>\n",
       "      <td>...</td>\n",
       "      <td>...</td>\n",
       "      <td>...</td>\n",
       "      <td>...</td>\n",
       "      <td>...</td>\n",
       "      <td>...</td>\n",
       "      <td>...</td>\n",
       "      <td>...</td>\n",
       "      <td>...</td>\n",
       "      <td>...</td>\n",
       "    </tr>\n",
       "    <tr>\n",
       "      <th>Round_round_3</th>\n",
       "      <td>-0.021151</td>\n",
       "      <td>-0.011774</td>\n",
       "      <td>0.053596</td>\n",
       "      <td>-0.038317</td>\n",
       "      <td>-0.082277</td>\n",
       "      <td>0.021296</td>\n",
       "      <td>-0.095356</td>\n",
       "      <td>0.103119</td>\n",
       "      <td>0.037088</td>\n",
       "      <td>-0.048205</td>\n",
       "      <td>...</td>\n",
       "      <td>-0.002849</td>\n",
       "      <td>-0.001638</td>\n",
       "      <td>-0.002251</td>\n",
       "      <td>0.000405</td>\n",
       "      <td>0.000604</td>\n",
       "      <td>0.000070</td>\n",
       "      <td>0.000015</td>\n",
       "      <td>2.201150e-01</td>\n",
       "      <td>4.477942e-01</td>\n",
       "      <td>3.209012e-02</td>\n",
       "    </tr>\n",
       "    <tr>\n",
       "      <th>Round_round_4</th>\n",
       "      <td>-0.002813</td>\n",
       "      <td>-0.031042</td>\n",
       "      <td>-0.021291</td>\n",
       "      <td>-0.100136</td>\n",
       "      <td>-0.029151</td>\n",
       "      <td>-0.004269</td>\n",
       "      <td>0.046660</td>\n",
       "      <td>0.088487</td>\n",
       "      <td>-0.128979</td>\n",
       "      <td>0.041125</td>\n",
       "      <td>...</td>\n",
       "      <td>-0.002701</td>\n",
       "      <td>0.002781</td>\n",
       "      <td>0.003034</td>\n",
       "      <td>0.000623</td>\n",
       "      <td>0.000939</td>\n",
       "      <td>0.000509</td>\n",
       "      <td>0.000616</td>\n",
       "      <td>2.201150e-01</td>\n",
       "      <td>4.477942e-01</td>\n",
       "      <td>3.209012e-02</td>\n",
       "    </tr>\n",
       "    <tr>\n",
       "      <th>Phase_phase1</th>\n",
       "      <td>-0.021668</td>\n",
       "      <td>-0.092836</td>\n",
       "      <td>0.120294</td>\n",
       "      <td>0.050045</td>\n",
       "      <td>-0.020125</td>\n",
       "      <td>-0.113265</td>\n",
       "      <td>-0.045786</td>\n",
       "      <td>-0.108317</td>\n",
       "      <td>0.051883</td>\n",
       "      <td>0.163407</td>\n",
       "      <td>...</td>\n",
       "      <td>-0.001621</td>\n",
       "      <td>0.001635</td>\n",
       "      <td>-0.000741</td>\n",
       "      <td>0.000533</td>\n",
       "      <td>0.000830</td>\n",
       "      <td>-0.000255</td>\n",
       "      <td>0.000645</td>\n",
       "      <td>2.569721e-01</td>\n",
       "      <td>-1.615116e-01</td>\n",
       "      <td>4.911341e-01</td>\n",
       "    </tr>\n",
       "    <tr>\n",
       "      <th>Phase_phase2</th>\n",
       "      <td>0.020002</td>\n",
       "      <td>0.227581</td>\n",
       "      <td>-0.192408</td>\n",
       "      <td>-0.025549</td>\n",
       "      <td>0.064477</td>\n",
       "      <td>0.128294</td>\n",
       "      <td>0.008266</td>\n",
       "      <td>0.139702</td>\n",
       "      <td>0.076656</td>\n",
       "      <td>-0.010733</td>\n",
       "      <td>...</td>\n",
       "      <td>0.004092</td>\n",
       "      <td>-0.001619</td>\n",
       "      <td>-0.001687</td>\n",
       "      <td>0.000653</td>\n",
       "      <td>-0.000273</td>\n",
       "      <td>0.000400</td>\n",
       "      <td>-0.000778</td>\n",
       "      <td>2.569721e-01</td>\n",
       "      <td>-1.615116e-01</td>\n",
       "      <td>4.911341e-01</td>\n",
       "    </tr>\n",
       "    <tr>\n",
       "      <th>Phase_phase3</th>\n",
       "      <td>0.001666</td>\n",
       "      <td>-0.134746</td>\n",
       "      <td>0.072114</td>\n",
       "      <td>-0.024497</td>\n",
       "      <td>-0.044351</td>\n",
       "      <td>-0.015029</td>\n",
       "      <td>0.037520</td>\n",
       "      <td>-0.031385</td>\n",
       "      <td>-0.128538</td>\n",
       "      <td>-0.152674</td>\n",
       "      <td>...</td>\n",
       "      <td>-0.002471</td>\n",
       "      <td>-0.000016</td>\n",
       "      <td>0.002428</td>\n",
       "      <td>-0.001186</td>\n",
       "      <td>-0.000557</td>\n",
       "      <td>-0.000144</td>\n",
       "      <td>0.000133</td>\n",
       "      <td>2.569721e-01</td>\n",
       "      <td>-1.615116e-01</td>\n",
       "      <td>4.911341e-01</td>\n",
       "    </tr>\n",
       "  </tbody>\n",
       "</table>\n",
       "<p>77 rows × 77 columns</p>\n",
       "</div>"
      ],
      "text/plain": [
       "                    PC1       PC2       PC3       PC4       PC5       PC6  \\\n",
       "Individual     0.059464  0.037196  0.048364 -0.063514 -0.156177 -0.008205   \n",
       "Puzzler        0.014490  0.020653  0.021465  0.059935 -0.004861  0.084835   \n",
       "HR_TD_Mean    -0.004257  0.218403  0.198168  0.271407 -0.192190  0.095972   \n",
       "HR_TD_Median   0.000302  0.201839  0.174057  0.254457 -0.215059  0.140010   \n",
       "HR_TD_std     -0.024941  0.144678  0.201758  0.129306  0.099179 -0.209591   \n",
       "...                 ...       ...       ...       ...       ...       ...   \n",
       "Round_round_3 -0.021151 -0.011774  0.053596 -0.038317 -0.082277  0.021296   \n",
       "Round_round_4 -0.002813 -0.031042 -0.021291 -0.100136 -0.029151 -0.004269   \n",
       "Phase_phase1  -0.021668 -0.092836  0.120294  0.050045 -0.020125 -0.113265   \n",
       "Phase_phase2   0.020002  0.227581 -0.192408 -0.025549  0.064477  0.128294   \n",
       "Phase_phase3   0.001666 -0.134746  0.072114 -0.024497 -0.044351 -0.015029   \n",
       "\n",
       "                    PC7       PC8       PC9      PC10  ...      PC68  \\\n",
       "Individual     0.364986 -0.001150  0.292768 -0.008556  ...  0.011602   \n",
       "Puzzler        0.032040 -0.189148 -0.087311  0.036051  ...  0.002708   \n",
       "HR_TD_Mean     0.044662 -0.027267 -0.012547 -0.036178  ...  0.688226   \n",
       "HR_TD_Median   0.016798 -0.066733  0.001046 -0.025141  ... -0.204826   \n",
       "HR_TD_std      0.172585  0.146842 -0.081914  0.000468  ... -0.072120   \n",
       "...                 ...       ...       ...       ...  ...       ...   \n",
       "Round_round_3 -0.095356  0.103119  0.037088 -0.048205  ... -0.002849   \n",
       "Round_round_4  0.046660  0.088487 -0.128979  0.041125  ... -0.002701   \n",
       "Phase_phase1  -0.045786 -0.108317  0.051883  0.163407  ... -0.001621   \n",
       "Phase_phase2   0.008266  0.139702  0.076656 -0.010733  ...  0.004092   \n",
       "Phase_phase3   0.037520 -0.031385 -0.128538 -0.152674  ... -0.002471   \n",
       "\n",
       "                   PC69      PC70      PC71      PC72      PC73      PC74  \\\n",
       "Individual     0.019831 -0.011844 -0.000171  0.000502  0.000654 -0.000589   \n",
       "Puzzler       -0.004119 -0.002391  0.000808 -0.000908  0.000510 -0.000371   \n",
       "HR_TD_Mean    -0.026952 -0.043705  0.065983  0.028765  0.008202 -0.009729   \n",
       "HR_TD_Median   0.015578  0.018304 -0.036442 -0.009998  0.000254  0.000515   \n",
       "HR_TD_std      0.014472  0.033783 -0.020562 -0.005514 -0.003880  0.000174   \n",
       "...                 ...       ...       ...       ...       ...       ...   \n",
       "Round_round_3 -0.001638 -0.002251  0.000405  0.000604  0.000070  0.000015   \n",
       "Round_round_4  0.002781  0.003034  0.000623  0.000939  0.000509  0.000616   \n",
       "Phase_phase1   0.001635 -0.000741  0.000533  0.000830 -0.000255  0.000645   \n",
       "Phase_phase2  -0.001619 -0.001687  0.000653 -0.000273  0.000400 -0.000778   \n",
       "Phase_phase3  -0.000016  0.002428 -0.001186 -0.000557 -0.000144  0.000133   \n",
       "\n",
       "                       PC75          PC76          PC77  \n",
       "Individual     0.000000e+00 -0.000000e+00  0.000000e+00  \n",
       "Puzzler       -6.872988e-17 -1.137996e-16 -9.181280e-17  \n",
       "HR_TD_Mean     2.101605e-15  1.131382e-15  1.261701e-16  \n",
       "HR_TD_Median   3.674061e-15 -4.113395e-16 -1.260123e-16  \n",
       "HR_TD_std     -1.480594e-15 -3.751103e-16  3.016108e-16  \n",
       "...                     ...           ...           ...  \n",
       "Round_round_3  2.201150e-01  4.477942e-01  3.209012e-02  \n",
       "Round_round_4  2.201150e-01  4.477942e-01  3.209012e-02  \n",
       "Phase_phase1   2.569721e-01 -1.615116e-01  4.911341e-01  \n",
       "Phase_phase2   2.569721e-01 -1.615116e-01  4.911341e-01  \n",
       "Phase_phase3   2.569721e-01 -1.615116e-01  4.911341e-01  \n",
       "\n",
       "[77 rows x 77 columns]"
      ]
     },
     "execution_count": 625,
     "metadata": {},
     "output_type": "execute_result"
    }
   ],
   "source": [
    "loadings_df"
   ]
  },
  {
   "cell_type": "code",
   "execution_count": 626,
   "metadata": {},
   "outputs": [
    {
     "data": {
      "text/plain": [
       "Index(['Individual', 'Puzzler', 'HR_TD_Mean', 'HR_TD_Median', 'HR_TD_std',\n",
       "       'HR_TD_Min', 'HR_TD_Max', 'HR_TD_AUC', 'HR_TD_Kurtosis', 'HR_TD_Skew',\n",
       "       'HR_TD_Slope_min', 'HR_TD_Slope_max', 'HR_TD_Slope_mean', 'HR_TD_Slope',\n",
       "       'TEMP_TD_Mean', 'TEMP_TD_Median', 'TEMP_TD_std', 'TEMP_TD_Min',\n",
       "       'TEMP_TD_Max', 'TEMP_TD_AUC', 'TEMP_TD_Kurtosis', 'TEMP_TD_Skew',\n",
       "       'TEMP_TD_Slope_min', 'TEMP_TD_Slope_max', 'TEMP_TD_Slope_mean',\n",
       "       'TEMP_TD_Slope', 'EDA_TD_P_Mean', 'EDA_TD_P_Median', 'EDA_TD_P_std',\n",
       "       'EDA_TD_P_Min', 'EDA_TD_P_Max', 'EDA_TD_P_AUC', 'EDA_TD_P_Kurtosis',\n",
       "       'EDA_TD_P_Skew', 'EDA_TD_P_Slope_min', 'EDA_TD_P_Slope_max',\n",
       "       'EDA_TD_P_Slope_mean', 'EDA_TD_P_Slope', 'EDA_TD_T_Mean',\n",
       "       'EDA_TD_T_Median', 'EDA_TD_T_std', 'EDA_TD_T_Min', 'EDA_TD_T_Max',\n",
       "       'EDA_TD_T_AUC', 'EDA_TD_T_Kurtosis', 'EDA_TD_T_Skew',\n",
       "       'EDA_TD_T_Slope_min', 'EDA_TD_T_Slope_max', 'EDA_TD_T_Slope_mean',\n",
       "       'EDA_TD_T_Slope', 'EDA_TD_P_Peaks', 'EDA_TD_P_RT', 'EDA_TD_P_ReT',\n",
       "       'Frustrated', 'upset', 'hostile', 'alert', 'ashamed', 'inspired',\n",
       "       'nervous', 'attentive', 'afraid', 'active', 'determined', 'Cohort_D1_1',\n",
       "       'Cohort_D1_2', 'Cohort_D1_3', 'Cohort_D1_4', 'Cohort_D1_5',\n",
       "       'Cohort_D1_6', 'Round_round_1', 'Round_round_2', 'Round_round_3',\n",
       "       'Round_round_4', 'Phase_phase1', 'Phase_phase2', 'Phase_phase3'],\n",
       "      dtype='object')"
      ]
     },
     "execution_count": 626,
     "metadata": {},
     "output_type": "execute_result"
    }
   ],
   "source": [
    "df_encoded.columns"
   ]
  },
  {
   "cell_type": "code",
   "execution_count": 627,
   "metadata": {},
   "outputs": [
    {
     "data": {
      "image/png": "[encoded data removed]",
      "text/plain": [
       "<Figure size 1000x400 with 2 Axes>"
      ]
     },
     "metadata": {},
     "output_type": "display_data"
    }
   ],
   "source": [
    "pc1 = df_pca[:, 0]\n",
    "pc2 = df_pca[:, 1]\n",
    "\n",
    "fig = plt.figure(figsize=(10, 4))\n",
    "scatter = plt.scatter(pc1, pc2, c=df_encoded['EDA_TD_P_Max'], cmap='viridis', alpha=1)\n",
    "plt.colorbar(scatter, label='EDA_TD_P_Max')\n",
    "plt.xlabel('Principal Component 1')\n",
    "plt.ylabel('Principal Component 2')\n",
    "plt.title('PCA - 2 components')\n",
    "plt.show()"
   ]
  },
  {
   "cell_type": "markdown",
   "metadata": {},
   "source": [
    "# **Clustering**"
   ]
  },
  {
   "cell_type": "code",
   "execution_count": 628,
   "metadata": {},
   "outputs": [],
   "source": [
    "from scipy.cluster.hierarchy import dendrogram, linkage, fcluster\n",
    "from sklearn.cluster import KMeans\n",
    "# from sklearn.cluster import clusterplot"
   ]
  },
  {
   "cell_type": "code",
   "execution_count": 629,
   "metadata": {},
   "outputs": [
    {
     "data": {
      "text/plain": [
       "0      1\n",
       "1      1\n",
       "2      1\n",
       "3      1\n",
       "4      1\n",
       "      ..\n",
       "307    1\n",
       "308    2\n",
       "309    2\n",
       "310    3\n",
       "311    3\n",
       "Name: Phase, Length: 312, dtype: int32"
      ]
     },
     "execution_count": 629,
     "metadata": {},
     "output_type": "execute_result"
    }
   ],
   "source": [
    "cluster_labels = fcluster(Z, t=3, criterion='maxclust')\n",
    "true_phases = df_new['Phase'].str[-1].astype('int')\n",
    "true_phases"
   ]
  },
  {
   "cell_type": "code",
   "execution_count": 630,
   "metadata": {},
   "outputs": [
    {
     "data": {
      "image/png": "[encoded data removed]",
      "text/plain": [
       "<Figure size 1000x500 with 1 Axes>"
      ]
     },
     "metadata": {},
     "output_type": "display_data"
    },
    {
     "name": "stdout",
     "output_type": "stream",
     "text": [
      "Normalized Mutual Information (NMI): 0.006\n"
     ]
    }
   ],
   "source": [
    "from scipy.cluster.hierarchy import linkage, dendrogram, fcluster\n",
    "import matplotlib.pyplot as plt\n",
    "\n",
    "columns_desired = ['HR_TD_Mean', 'HR_TD_Median', 'HR_TD_std',\n",
    "       'HR_TD_Min', 'HR_TD_Max', 'HR_TD_AUC', 'HR_TD_Kurtosis', 'HR_TD_Skew',\n",
    "       'HR_TD_Slope_min', 'HR_TD_Slope_max', 'HR_TD_Slope_mean', 'HR_TD_Slope',\n",
    "       'TEMP_TD_Mean', 'TEMP_TD_Median', 'TEMP_TD_std', 'TEMP_TD_Min',\n",
    "       'TEMP_TD_Max', 'TEMP_TD_AUC', 'TEMP_TD_Kurtosis', 'TEMP_TD_Skew',\n",
    "       'TEMP_TD_Slope_min', 'TEMP_TD_Slope_max', 'TEMP_TD_Slope_mean',\n",
    "       'TEMP_TD_Slope', 'EDA_TD_P_Mean', 'EDA_TD_P_Median', 'EDA_TD_P_std',\n",
    "       'EDA_TD_P_Min', 'EDA_TD_P_Max', 'EDA_TD_P_AUC', 'EDA_TD_P_Kurtosis',\n",
    "       'EDA_TD_P_Skew', 'EDA_TD_P_Slope_min', 'EDA_TD_P_Slope_max',\n",
    "       'EDA_TD_P_Slope_mean', 'EDA_TD_P_Slope', 'EDA_TD_T_Mean',\n",
    "       'EDA_TD_T_Median', 'EDA_TD_T_std', 'EDA_TD_T_Min', 'EDA_TD_T_Max',\n",
    "       'EDA_TD_T_AUC', 'EDA_TD_T_Kurtosis', 'EDA_TD_T_Skew',\n",
    "       'EDA_TD_T_Slope_min', 'EDA_TD_T_Slope_max', 'EDA_TD_T_Slope_mean',\n",
    "       'EDA_TD_T_Slope', 'EDA_TD_P_Peaks', 'EDA_TD_P_RT', 'EDA_TD_P_ReT']\n",
    "data_clustering = scaled_df_encoded[columns_desired]\n",
    "\n",
    "Z = linkage(data_clustering, method='ward')\n",
    "plt.figure(figsize=(10, 5))\n",
    "dendrogram(Z)\n",
    "plt.title(\"Hierarchical Clustering Dendrogram\")\n",
    "plt.xlabel(\"Sample Index\")\n",
    "plt.ylabel(\"Distance\")\n",
    "plt.show()\n",
    "\n",
    "from sklearn.metrics import normalized_mutual_info_score\n",
    "\n",
    "cluster_labels = fcluster(Z, t=2, criterion='maxclust')\n",
    "true_labels = df_new['Phase'].str[-1].astype('int')\n",
    "\n",
    "nmi = normalized_mutual_info_score(true_labels, cluster_labels)\n",
    "print(f\"Normalized Mutual Information (NMI): {nmi:.3f}\")"
   ]
  },
  {
   "cell_type": "code",
   "execution_count": null,
   "metadata": {},
   "outputs": [],
   "source": []
  },
  {
   "cell_type": "code",
   "execution_count": 632,
   "metadata": {},
   "outputs": [
    {
     "data": {
      "text/plain": [
       "0      1\n",
       "1      1\n",
       "2      1\n",
       "3      1\n",
       "4      1\n",
       "      ..\n",
       "307    1\n",
       "308    2\n",
       "309    2\n",
       "310    3\n",
       "311    3\n",
       "Name: Phase, Length: 312, dtype: int32"
      ]
     },
     "execution_count": 632,
     "metadata": {},
     "output_type": "execute_result"
    }
   ],
   "source": [
    "true_labels"
   ]
  }
 ],
 "metadata": {
  "kernelspec": {
   "display_name": "base",
   "language": "python",
   "name": "python3"
  },
  "language_info": {
   "codemirror_mode": {
    "name": "ipython",
    "version": 3
   },
   "file_extension": ".py",
   "mimetype": "text/x-python",
   "name": "python",
   "nbconvert_exporter": "python",
   "pygments_lexer": "ipython3",
   "version": "3.12.7"
  }
 },
 "nbformat": 4,
 "nbformat_minor": 2
}
